{
  "cells": [
    {
      "cell_type": "markdown",
      "metadata": {
        "id": "view-in-github",
        "colab_type": "text"
      },
      "source": [
        "<a href=\"https://colab.research.google.com/github/pravinraj0001/DataScience/blob/main/Assignment5_6_7.ipynb\" target=\"_parent\"><img src=\"https://colab.research.google.com/assets/colab-badge.svg\" alt=\"Open In Colab\"/></a>"
      ]
    },
    {
      "cell_type": "code",
      "execution_count": 1,
      "metadata": {
        "id": "o0RxwTYxSRCw"
      },
      "outputs": [],
      "source": [
        "import pandas as pd\n",
        "import matplotlib.pyplot as plt\n",
        "from sklearn.model_selection import train_test_split # split the data\n",
        "import numpy as np\n",
        "from sklearn import linear_model"
      ]
    },
    {
      "cell_type": "markdown",
      "metadata": {
        "id": "_6xVLzi0SRC2"
      },
      "source": [
        "# Assignment5\n"
      ]
    },
    {
      "cell_type": "markdown",
      "metadata": {
        "id": "uq7-wd1ySRC4"
      },
      "source": [
        "## Ground Cricket Chirps\n",
        "\n",
        "In _The Song of Insects_ (1948) by George W. Pierce, Pierce mechanically measured the frequency (the number of wing vibrations per second) of chirps (or pulses of sound) made by a striped ground cricket, at various ground temperatures.  Since crickets are ectotherms (cold-blooded), the rate of their physiological processes and their overall metabolism are influenced by temperature.  Consequently, there is reason to believe that temperature would have a profound effect on aspects of their behavior, such as chirp frequency.\n",
        "\n",
        "In general, it was found that crickets did not sing at temperatures colder than 60º F. or warmer than 100º F."
      ]
    },
    {
      "cell_type": "code",
      "execution_count": null,
      "metadata": {
        "id": "_PxZWtZtSRC6",
        "colab": {
          "base_uri": "https://localhost:8080/"
        },
        "outputId": "76ec2906-87ff-469a-89f6-77fbc8517342"
      },
      "outputs": [
        {
          "output_type": "stream",
          "name": "stdout",
          "text": [
            "    Chirps/Second  Ground Temperature\n",
            "0            20.0                88.6\n",
            "1            16.0                71.6\n",
            "2            19.8                93.3\n",
            "3            18.4                84.3\n",
            "4            17.1                80.6\n",
            "5            15.5                75.2\n",
            "6            14.7                69.7\n",
            "7            15.7                71.6\n",
            "8            15.4                69.4\n",
            "9            16.3                83.3\n",
            "10           15.0                79.6\n",
            "11           17.2                82.6\n",
            "12           16.0                80.6\n",
            "13           17.0                83.5\n",
            "14           14.4                76.3\n"
          ]
        }
      ],
      "source": [
        "ground_cricket_data = {\"Chirps/Second\": [20.0, 16.0, 19.8, 18.4, 17.1, 15.5, 14.7,\n",
        "                                         15.7, 15.4, 16.3, 15.0, 17.2, 16.0, 17.0,\n",
        "                                         14.4],\n",
        "                       \"Ground Temperature\": [88.6, 71.6, 93.3, 84.3, 80.6, 75.2, 69.7,\n",
        "                                              71.6, 69.4, 83.3, 79.6, 82.6, 80.6, 83.5,\n",
        "                                              76.3]}\n",
        "df = pd.DataFrame(ground_cricket_data)\n",
        "print(df)"
      ]
    },
    {
      "cell_type": "markdown",
      "source": [
        "Find the linear regression equation for this data."
      ],
      "metadata": {
        "id": "Q9i5Qvr2jdxM"
      }
    },
    {
      "cell_type": "code",
      "source": [
        "df.isnull().sum()"
      ],
      "metadata": {
        "id": "HINOEP6_g7Ud",
        "colab": {
          "base_uri": "https://localhost:8080/"
        },
        "outputId": "9d439a3d-0996-4148-92e4-2cd9c6f4199a"
      },
      "execution_count": null,
      "outputs": [
        {
          "output_type": "execute_result",
          "data": {
            "text/plain": [
              "Chirps/Second         0\n",
              "Ground Temperature    0\n",
              "dtype: int64"
            ]
          },
          "metadata": {},
          "execution_count": 3
        }
      ]
    },
    {
      "cell_type": "markdown",
      "source": [
        "Checking for outliers"
      ],
      "metadata": {
        "id": "RwPnCj31jxKr"
      }
    },
    {
      "cell_type": "code",
      "source": [
        "df.dtypes"
      ],
      "metadata": {
        "colab": {
          "base_uri": "https://localhost:8080/"
        },
        "id": "z-ehcEYUkOvz",
        "outputId": "04c2c50f-17d1-441e-a915-8bd55a5d22b0"
      },
      "execution_count": null,
      "outputs": [
        {
          "output_type": "execute_result",
          "data": {
            "text/plain": [
              "Chirps/Second         float64\n",
              "Ground Temperature    float64\n",
              "dtype: object"
            ]
          },
          "metadata": {},
          "execution_count": 4
        }
      ]
    },
    {
      "cell_type": "markdown",
      "source": [
        "Chart the original data and the equation on the chart."
      ],
      "metadata": {
        "id": "cMBTlLmAvJMJ"
      }
    },
    {
      "cell_type": "code",
      "source": [
        "fig, ax = plt.subplots()\n",
        "X = df[['Ground Temperature']].values # fts\n",
        "y = df['Chirps/Second'].values\n",
        "ax.scatter(X, y, linewidth=2.0)\n",
        "plt.show()"
      ],
      "metadata": {
        "colab": {
          "base_uri": "https://localhost:8080/",
          "height": 265
        },
        "id": "-HRXe-WFvIFv",
        "outputId": "448b6c8a-b8f9-4c88-925a-48c52ff82e8d"
      },
      "execution_count": null,
      "outputs": [
        {
          "output_type": "display_data",
          "data": {
            "text/plain": [
              "<Figure size 432x288 with 1 Axes>"
            ],
            "image/png": "[encoded data removed]"
          },
          "metadata": {
            "needs_background": "light"
          }
        }
      ]
    },
    {
      "cell_type": "code",
      "source": [
        "df = df.drop_duplicates()\n",
        "X_train,X_test,y_train,y_test = train_test_split(X,y,test_size=0.20,random_state=0) # train- test split"
      ],
      "metadata": {
        "id": "wY0CcI-Fjsy0"
      },
      "execution_count": null,
      "outputs": []
    },
    {
      "cell_type": "code",
      "source": [
        "lr = linear_model.LinearRegression()\n",
        "lr.fit(X_train, y_train)"
      ],
      "metadata": {
        "colab": {
          "base_uri": "https://localhost:8080/"
        },
        "id": "ZCrzAuUSmDRU",
        "outputId": "38a0d10b-3838-4213-bbeb-c0a5e3966344"
      },
      "execution_count": null,
      "outputs": [
        {
          "output_type": "execute_result",
          "data": {
            "text/plain": [
              "LinearRegression()"
            ]
          },
          "metadata": {},
          "execution_count": 7
        }
      ]
    },
    {
      "cell_type": "code",
      "source": [
        "y_pred = lr.predict(X_test.reshape(-1, 1))\n",
        "y_pred\n",
        "plt.scatter(X, y, color='blue')\n",
        "plt.plot(X, lr.predict(X), color='red')"
      ],
      "metadata": {
        "colab": {
          "base_uri": "https://localhost:8080/",
          "height": 282
        },
        "id": "0Vb5ddWZmq7K",
        "outputId": "a5980f66-3a15-4447-8a1f-3c2879a0aeae"
      },
      "execution_count": null,
      "outputs": [
        {
          "output_type": "execute_result",
          "data": {
            "text/plain": [
              "[<matplotlib.lines.Line2D at 0x7fba3b7add90>]"
            ]
          },
          "metadata": {},
          "execution_count": 40
        },
        {
          "output_type": "display_data",
          "data": {
            "text/plain": [
              "<Figure size 432x288 with 1 Axes>"
            ],
            "image/png": "[encoded data removed]"
          },
          "metadata": {
            "needs_background": "light"
          }
        }
      ]
    },
    {
      "cell_type": "code",
      "source": [
        "print('r-squared: ', lr.score(X, y))"
      ],
      "metadata": {
        "colab": {
          "base_uri": "https://localhost:8080/"
        },
        "id": "VEWUpgwPsIQJ",
        "outputId": "62984ea3-c90d-488e-a319-19ccfd7d46ed"
      },
      "execution_count": null,
      "outputs": [
        {
          "output_type": "stream",
          "name": "stdout",
          "text": [
            "r-squared:  0.6053266625828471\n"
          ]
        }
      ]
    },
    {
      "cell_type": "markdown",
      "source": [
        "Extrapolate data: If the ground temperature reached 95, then at what approximate rate would you expect the crickets to be chirping?"
      ],
      "metadata": {
        "id": "ZhnGvFnqxLFk"
      }
    },
    {
      "cell_type": "code",
      "source": [
        "lr.predict([[95]])"
      ],
      "metadata": {
        "colab": {
          "base_uri": "https://localhost:8080/"
        },
        "id": "GNtr6bNnxMKE",
        "outputId": "88e226c6-d1a2-4d63-8302-faf2a6b2595c"
      },
      "execution_count": null,
      "outputs": [
        {
          "output_type": "execute_result",
          "data": {
            "text/plain": [
              "array([20.35065086])"
            ]
          },
          "metadata": {},
          "execution_count": 47
        }
      ]
    },
    {
      "cell_type": "markdown",
      "source": [
        "Interpolate data: With a listening device, you discovered that on a particular morning the crickets were chirping at a rate of 18 chirps per second. What was the approximate ground temperature that morning?"
      ],
      "metadata": {
        "id": "ETVPYqjJ5_Vz"
      }
    },
    {
      "cell_type": "code",
      "source": [
        "(18 - lr.intercept_) / lr.coef_"
      ],
      "metadata": {
        "colab": {
          "base_uri": "https://localhost:8080/"
        },
        "id": "W9c09fjl591P",
        "outputId": "f45badad-2e4c-44b8-ee3a-c97f3da53505"
      },
      "execution_count": null,
      "outputs": [
        {
          "output_type": "execute_result",
          "data": {
            "text/plain": [
              "array([85.97586169])"
            ]
          },
          "metadata": {},
          "execution_count": 48
        }
      ]
    },
    {
      "cell_type": "markdown",
      "metadata": {
        "id": "fEWofIT1SRC7"
      },
      "source": [
        "### Tasks\n",
        "\n",
        "1. Find the linear regression equation for this data.\n",
        "2. Chart the original data and the equation on the chart.\n",
        "3. Find the equation's $R^2$ score (use the `.score` method) to determine whether the\n",
        "equation is a good fit for this data. (0.8 and greater is considered a strong correlation.)\n",
        "4. Extrapolate data:  If the ground temperature reached 95, then at what approximate rate would you expect the crickets to be chirping?\n",
        "5. Interpolate data:  With a listening device, you discovered that on a particular morning the crickets were chirping at a rate of 18 chirps per second.  What was the approximate ground temperature that morning? "
      ]
    },
    {
      "cell_type": "markdown",
      "metadata": {
        "id": "1I02KofgSRC7"
      },
      "source": [
        "# Assignment6"
      ]
    },
    {
      "cell_type": "markdown",
      "metadata": {
        "id": "_kLo5ZlTSRC8"
      },
      "source": [
        "## Brain vs. Body Weight\n",
        "\n",
        "In the file `brain_body.txt`, the average brain and body weight for a number of mammal species are recorded. Load this data into a Pandas data frame.\n",
        "\n",
        "### Tasks\n",
        "\n",
        "1. Find the linear regression equation for this data for brain weight to body weight.\n",
        "2. Chart the original data and the equation on the chart.\n",
        "3. Find the equation's $R^2$ score (use the `.score` method) to determine whether the\n",
        "equation is a good fit for this data. (0.8 and greater is considered a strong correlation.)"
      ]
    },
    {
      "cell_type": "code",
      "execution_count": null,
      "metadata": {
        "id": "whclyV_mSRC9"
      },
      "outputs": [],
      "source": [
        "df = pd.read_fwf(\"/content/sample_data/brain_body.txt\")"
      ]
    },
    {
      "cell_type": "markdown",
      "source": [
        "Find the linear regression equation for this data for brain weight to body weight."
      ],
      "metadata": {
        "id": "OhC3jviIOzZ_"
      }
    },
    {
      "cell_type": "code",
      "source": [
        "lr = linear_model.LinearRegression()\n",
        "lr.fit(df[['Body']], df['Brain'])\n",
        "print(' linear regression equation:\\n y = {:.4f} * x + {:.4f}'.format(lr.coef_[0], lr.intercept_))"
      ],
      "metadata": {
        "colab": {
          "base_uri": "https://localhost:8080/"
        },
        "id": "D0POhGuBLSnJ",
        "outputId": "9db80748-5183-421c-83cc-13ab6406f44e"
      },
      "execution_count": null,
      "outputs": [
        {
          "output_type": "stream",
          "name": "stdout",
          "text": [
            " linear regression equation:\n",
            " y = 0.9029 * x + -56.8555\n"
          ]
        }
      ]
    },
    {
      "cell_type": "markdown",
      "source": [
        "Chart the original data and the equation on the chart."
      ],
      "metadata": {
        "id": "2bgakzY6O7E_"
      }
    },
    {
      "cell_type": "code",
      "source": [
        "plt.scatter(df[['Body']], df['Brain'], color='red')\n",
        "plt.plot(df[['Body']], lr.predict(df[['Body']]))\n",
        "plt.title('Brain Weight vs Body Weight')\n",
        "plt.xlabel('Body Weight')\n",
        "plt.ylabel('Brain Weight')\n",
        "plt.show()"
      ],
      "metadata": {
        "colab": {
          "base_uri": "https://localhost:8080/",
          "height": 295
        },
        "id": "kxfVyWwFMXVX",
        "outputId": "40db46c4-38fc-4f75-ebeb-be2255ea2100"
      },
      "execution_count": null,
      "outputs": [
        {
          "output_type": "display_data",
          "data": {
            "text/plain": [
              "<Figure size 432x288 with 1 Axes>"
            ],
            "image/png": "[encoded data removed]"
          },
          "metadata": {
            "needs_background": "light"
          }
        }
      ]
    },
    {
      "cell_type": "markdown",
      "source": [
        "Find the equation's  R2  score (use the .score method) to determine whether the equation is a good fit for this data. (0.8 and greater is considered a strong correlation.)"
      ],
      "metadata": {
        "id": "S0VAYw_FPA5e"
      }
    },
    {
      "cell_type": "code",
      "source": [
        "r2_score = lr.score(df[['Body']], df['Brain'])\n",
        "print('R2 score is',r2_score)"
      ],
      "metadata": {
        "colab": {
          "base_uri": "https://localhost:8080/"
        },
        "id": "OxRi4vU9M4B0",
        "outputId": "db705432-346a-46a0-9677-c6a53090d0fb"
      },
      "execution_count": null,
      "outputs": [
        {
          "output_type": "stream",
          "name": "stdout",
          "text": [
            "R2 score is 0.8726620843043331\n"
          ]
        }
      ]
    },
    {
      "cell_type": "markdown",
      "metadata": {
        "id": "jQlx9H16SRC-"
      },
      "source": [
        "# Assignment7"
      ]
    },
    {
      "cell_type": "markdown",
      "metadata": {
        "id": "ZM7TTZQvSRC_"
      },
      "source": [
        "## Salary Discrimination\n",
        "\n",
        "The file `salary.txt` contains data for 52 tenure-track professors at a small Midwestern college. This data was used in legal proceedings in the 1980s about discrimination against women in salary.\n",
        "\n",
        "The data in the file, by column:\n",
        "\n",
        "1. Sex. 1 for female, 0 for male.\n",
        "2. Rank. 1 for assistant professor, 2 for associate professor, 3 for full professor.\n",
        "3. Year. Number of years in current rank.\n",
        "4. Degree. Highest degree. 1 for doctorate, 0 for master's.\n",
        "5. YSdeg. Years since highest degree was earned.\n",
        "6. Salary. Salary/year in dollars.\n",
        "\n",
        "### Tasks\n",
        "\n",
        "1. Find the linear regression equation for this data using columns 1-5 to column 6.\n",
        "2. Find the selection of columns with the best $R^2$ score.\n",
        "3. Report whether sex is a factor in salary."
      ]
    },
    {
      "cell_type": "code",
      "execution_count": 3,
      "metadata": {
        "id": "oQxOuG2iSRDA"
      },
      "outputs": [],
      "source": [
        "df = pd.read_fwf(\"/content/sample_data/salary.txt\", header=None, \n",
        "                 names=[\"Sex\", \"Rank\", \"Year\", \"Degree\", \"YSdeg\", \"Salary\"])\n"
      ]
    },
    {
      "cell_type": "markdown",
      "source": [
        "Find the linear regression equation for this data using columns 1-5 to column 6."
      ],
      "metadata": {
        "id": "qYjs-eVpbyx3"
      }
    },
    {
      "cell_type": "code",
      "source": [
        "lr = linear_model.LinearRegression()\n",
        "lr.fit(df[list(df.columns[:-1])], df[['Salary']])\n",
        "print('linear regression equation for this data using columns {} to column 6:\\n y = {} * x + {}'.format(df.columns[:-1], lr.coef_, lr.intercept_))"
      ],
      "metadata": {
        "colab": {
          "base_uri": "https://localhost:8080/"
        },
        "id": "amxR-zrcbjHs",
        "outputId": "3b2d8f54-66e3-43e8-f09f-efe27d6f41ee"
      },
      "execution_count": 22,
      "outputs": [
        {
          "output_type": "stream",
          "name": "stdout",
          "text": [
            "linear regression equation for this data using columns Index(['Sex', 'Rank', 'Year', 'Degree', 'YSdeg'], dtype='object') to column 6:\n",
            " y = [[ 1241.7924996   5586.18144952   482.85976783 -1331.64406341\n",
            "   -128.79057354]] * x + [11410.14654726]\n"
          ]
        }
      ]
    },
    {
      "cell_type": "markdown",
      "source": [
        "Find the selection of columns with the best  R2  score."
      ],
      "metadata": {
        "id": "ywue-8sRfOMm"
      }
    },
    {
      "cell_type": "code",
      "source": [
        "lst = list(df.columns[:-1])\n",
        "rscore_list = []\n",
        "for i in range(0,len(lst)):\n",
        "  lr.fit(df[list(df.columns[:-1-i])], df[['Salary']])\n",
        "  rscore_list.append(lr.score(df[list(df.columns[:-1-i])], df[['Salary']]))\n",
        "print(\"Best R2 score is : \",max(rscore_list))"
      ],
      "metadata": {
        "colab": {
          "base_uri": "https://localhost:8080/"
        },
        "id": "spbJRvlSfTby",
        "outputId": "7585bd83-22f1-407b-8bec-68beb8468b84"
      },
      "execution_count": 34,
      "outputs": [
        {
          "output_type": "stream",
          "name": "stdout",
          "text": [
            "Best R2 score is :  0.8547180674410969\n"
          ]
        }
      ]
    },
    {
      "cell_type": "markdown",
      "source": [
        "Report whether sex is a factor in salary."
      ],
      "metadata": {
        "id": "qEW-UcLSg1Gn"
      }
    },
    {
      "cell_type": "code",
      "source": [
        "lr.fit(df[list(df.columns[1:-1])], df[['Salary']])\n",
        "woScolumn = lr.score(df[list(df.columns[1:-1])], df[['Salary']])\n",
        "print(\"Without Sex factor the R2 score is \",woScolumn)\n",
        "diff = max(rscore_list) - woScolumn\n",
        "print(\"Compared to with Sex factor, and without Sex factor\\nthe R2 score differs by {} that is {:.2f}%\".format(diff,diff*100))\n",
        "print(\"Hence sex is not an important factor in salary\")"
      ],
      "metadata": {
        "colab": {
          "base_uri": "https://localhost:8080/"
        },
        "id": "YmkjLf32g5L2",
        "outputId": "aa6442f4-4a31-43f8-fe1a-a03aaa6a5eb7"
      },
      "execution_count": 45,
      "outputs": [
        {
          "output_type": "stream",
          "name": "stdout",
          "text": [
            "Without Sex factor the R2 score is  0.8485077204335426\n",
            "Compared to with Sex factor, and without Sex factor\n",
            "the R2 score differs by 0.0062103470075542955 that is 0.62%\n",
            "Hence sex is not an important factor in salary\n"
          ]
        }
      ]
    }
  ],
  "metadata": {
    "kernelspec": {
      "display_name": "Python 3",
      "language": "python",
      "name": "python3"
    },
    "language_info": {
      "codemirror_mode": {
        "name": "ipython",
        "version": 3
      },
      "file_extension": ".py",
      "mimetype": "text/x-python",
      "name": "python",
      "nbconvert_exporter": "python",
      "pygments_lexer": "ipython3",
      "version": "3.8.3"
    },
    "colab": {
      "provenance": [],
      "include_colab_link": true
    }
  },
  "nbformat": 4,
  "nbformat_minor": 0
}